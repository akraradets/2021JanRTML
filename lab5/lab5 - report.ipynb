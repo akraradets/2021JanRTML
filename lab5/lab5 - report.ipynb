{
 "metadata": {
  "language_info": {
   "codemirror_mode": {
    "name": "ipython",
    "version": 3
   },
   "file_extension": ".py",
   "mimetype": "text/x-python",
   "name": "python",
   "nbconvert_exporter": "python",
   "pygments_lexer": "ipython3",
   "version": 3
  },
  "orig_nbformat": 2
 },
 "nbformat": 4,
 "nbformat_minor": 2,
 "cells": [
  {
   "source": [
    "# Lab5 - Report - st121413\n",
    "\n",
    "My only achivement is 2 functions.\n",
    "\n",
    "1. I manage to load the weight of csdarknet\n",
    "\n",
    "2. I manage to augment the image using imgaug but in the final code, I change to albumentations as suggested by prof. Matt. (The library looks cleaner)\n",
    "\n",
    "The rest of the code is a combination of trial and confuse which I use Chichan code as a reference (another word for copy and fix)\n",
    "\n",
    "Here is the experimental file. https://github.com/akraradets/2021JanRTML/blob/main/lab5/yolov4%20-%20train/lab5%20-%20in%20lab.ipynb\n",
    "\n",
    "## Result\n",
    "The model loss did converged but is it correct? I am not even sure any of the step is correct. ** sad face **"
   ],
   "cell_type": "markdown",
   "metadata": {}
  },
  {
   "cell_type": "code",
   "execution_count": null,
   "metadata": {},
   "outputs": [],
   "source": []
  }
 ]
}