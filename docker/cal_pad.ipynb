{
 "metadata": {
  "language_info": {
   "codemirror_mode": {
    "name": "ipython",
    "version": 3
   },
   "file_extension": ".py",
   "mimetype": "text/x-python",
   "name": "python",
   "nbconvert_exporter": "python",
   "pygments_lexer": "ipython3",
   "version": "3.6.9-final"
  },
  "orig_nbformat": 2,
  "kernelspec": {
   "name": "python3",
   "display_name": "Python 3",
   "language": "python"
  }
 },
 "nbformat": 4,
 "nbformat_minor": 2,
 "cells": [
  {
   "cell_type": "code",
   "execution_count": 30,
   "metadata": {},
   "outputs": [
    {
     "output_type": "stream",
     "name": "stdout",
     "text": [
      "0\n56\n"
     ]
    }
   ],
   "source": [
    "import numpy as np\n",
    "import math\n",
    "\n",
    "# input output relation is\n",
    "# floor((input + 2pad - filter / 2) + 1) = output\n",
    "\n",
    "def findPad(input, output, filter, stride):\n",
    "    return math.ceil((((output - 1) * stride) + filter - input) / 2)\n",
    "\n",
    "def findOutput(input, pad, filter, stride):\n",
    "    return math.floor(((input + (2*pad) - filter) / stride)  + 1)\n",
    "\n",
    "print(findPad(input=14,output=4,filter=5, stride=3))\n",
    "\n",
    "print(findOutput(input=56,pad=0,filter=1, stride=1))\n"
   ]
  }
 ]
}