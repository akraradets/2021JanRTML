{
 "metadata": {
  "language_info": {
   "codemirror_mode": {
    "name": "ipython",
    "version": 3
   },
   "file_extension": ".py",
   "mimetype": "text/x-python",
   "name": "python",
   "nbconvert_exporter": "python",
   "pygments_lexer": "ipython3",
   "version": "3.8.5-final"
  },
  "orig_nbformat": 2,
  "kernelspec": {
   "name": "python3",
   "display_name": "Python 3.8.5 64-bit",
   "metadata": {
    "interpreter": {
     "hash": "31f2aee4e71d21fbe5cf8b01ff0e069b9275f58929596ceb00d14d90e3e16cd6"
    }
   }
  }
 },
 "nbformat": 4,
 "nbformat_minor": 2,
 "cells": [
  {
   "cell_type": "code",
   "execution_count": 1,
   "metadata": {},
   "outputs": [
    {
     "output_type": "stream",
     "name": "stdout",
     "text": [
      "0\n56\n"
     ]
    }
   ],
   "source": [
    "import numpy as np\n",
    "import math\n",
    "\n",
    "# input output relation is\n",
    "# floor((input + 2pad - filter / 2) + 1) = output\n",
    "\n",
    "def findPad(input, output, filter, stride):\n",
    "    return math.ceil((((output - 1) * stride) + filter - input) / 2)\n",
    "\n",
    "def findOutput(input, pad, filter, stride):\n",
    "    return math.floor(((input + (2*pad) - filter) / stride)  + 1)\n",
    "\n",
    "print(findPad(input=14,output=4,filter=5, stride=3))\n",
    "\n",
    "print(findOutput(input=56,pad=0,filter=1, stride=1))\n"
   ]
  },
  {
   "source": [
    "import torch\n",
    "device = torch.device(\"cuda:1\" if torch.cuda.is_available() else \"cpu\")\n",
    "print(device)"
   ],
   "cell_type": "code",
   "metadata": {},
   "execution_count": 1,
   "outputs": [
    {
     "output_type": "stream",
     "name": "stdout",
     "text": [
      "cuda:1\n"
     ]
    }
   ]
  }
 ]
}