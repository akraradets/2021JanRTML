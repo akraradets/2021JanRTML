{
 "metadata": {
  "language_info": {
   "codemirror_mode": {
    "name": "ipython",
    "version": 3
   },
   "file_extension": ".py",
   "mimetype": "text/x-python",
   "name": "python",
   "nbconvert_exporter": "python",
   "pygments_lexer": "ipython3",
   "version": 3
  },
  "orig_nbformat": 2
 },
 "nbformat": 4,
 "nbformat_minor": 2,
 "cells": [
  {
   "source": [
    "# RTML lab1 report - st121413\n",
    "\n",
    "Your lab report should have the following sections:\n",
    "\n",
    "1. Introduction: the background and goals of the lab\n",
    "2. Methods: what you did, what parameters you tried, and so on\n",
    "3. Results: what were the results\n",
    "4. Conclusion: what did you learn from the lab, and what might be the next steps\n",
    "\n",
    "In the results section, be sure to show training and validation loss as a function of training epochs. You'll also want to show results on a separate test set and give some analysis of the errors the classifier makes on the test set."
   ],
   "cell_type": "markdown",
   "metadata": {}
  },
  {
   "source": [
    "##  1. Introduction\n",
    "\n",
    "The goal of this lab is to setup our machine to run SSH to puffer and connect to docker.\n",
    "\n",
    "Then, we try to test wether our docker can run pytorch on GPUs."
   ],
   "cell_type": "markdown",
   "metadata": {}
  }
 ]
}