{
 "metadata": {
  "language_info": {
   "codemirror_mode": {
    "name": "ipython",
    "version": 3
   },
   "file_extension": ".py",
   "mimetype": "text/x-python",
   "name": "python",
   "nbconvert_exporter": "python",
   "pygments_lexer": "ipython3",
   "version": "3.6.9"
  },
  "orig_nbformat": 2,
  "kernelspec": {
   "name": "python369jvsc74a57bd031f2aee4e71d21fbe5cf8b01ff0e069b9275f58929596ceb00d14d90e3e16cd6",
   "display_name": "Python 3.6.9 64-bit"
  },
  "metadata": {
   "interpreter": {
    "hash": "31f2aee4e71d21fbe5cf8b01ff0e069b9275f58929596ceb00d14d90e3e16cd6"
   }
  }
 },
 "nbformat": 4,
 "nbformat_minor": 2,
 "cells": [
  {
   "cell_type": "code",
   "execution_count": 3,
   "metadata": {},
   "outputs": [
    {
     "output_type": "stream",
     "name": "stderr",
     "text": [
      "[nltk_data] Downloading package nps_chat to /root/nltk_data...\n",
      "[nltk_data]   Unzipping corpora/nps_chat.zip.\n"
     ]
    },
    {
     "output_type": "execute_result",
     "data": {
      "text/plain": [
       "True"
      ]
     },
     "metadata": {},
     "execution_count": 3
    }
   ],
   "source": [
    "import nltk\n",
    "nltk.download('nps_chat')"
   ]
  },
  {
   "source": [
    "from nltk.corpus import nps_chat\n",
    "nps_chat.fileids()"
   ],
   "cell_type": "code",
   "metadata": {},
   "execution_count": 4,
   "outputs": [
    {
     "output_type": "execute_result",
     "data": {
      "text/plain": [
       "['10-19-20s_706posts.xml',\n",
       " '10-19-30s_705posts.xml',\n",
       " '10-19-40s_686posts.xml',\n",
       " '10-19-adults_706posts.xml',\n",
       " '10-24-40s_706posts.xml',\n",
       " '10-26-teens_706posts.xml',\n",
       " '11-06-adults_706posts.xml',\n",
       " '11-08-20s_705posts.xml',\n",
       " '11-08-40s_706posts.xml',\n",
       " '11-08-adults_705posts.xml',\n",
       " '11-08-teens_706posts.xml',\n",
       " '11-09-20s_706posts.xml',\n",
       " '11-09-40s_706posts.xml',\n",
       " '11-09-adults_706posts.xml',\n",
       " '11-09-teens_706posts.xml']"
      ]
     },
     "metadata": {},
     "execution_count": 4
    }
   ]
  },
  {
   "cell_type": "code",
   "execution_count": 5,
   "metadata": {},
   "outputs": [
    {
     "output_type": "execute_result",
     "data": {
      "text/plain": [
       "['10-19-20s_706posts.xml',\n",
       " '10-19-30s_705posts.xml',\n",
       " '10-19-40s_686posts.xml',\n",
       " '10-19-adults_706posts.xml',\n",
       " '10-24-40s_706posts.xml',\n",
       " '10-26-teens_706posts.xml',\n",
       " '11-06-adults_706posts.xml',\n",
       " '11-08-20s_705posts.xml',\n",
       " '11-08-40s_706posts.xml',\n",
       " '11-08-adults_705posts.xml',\n",
       " '11-08-teens_706posts.xml',\n",
       " '11-09-20s_706posts.xml',\n",
       " '11-09-40s_706posts.xml',\n",
       " '11-09-adults_706posts.xml',\n",
       " '11-09-teens_706posts.xml']"
      ]
     },
     "metadata": {},
     "execution_count": 5
    }
   ],
   "source": [
    "nps_chat.fileids()"
   ]
  },
  {
   "cell_type": "code",
   "execution_count": 11,
   "metadata": {
    "tags": [
     "outputPrepend"
    ]
   },
   "outputs": [
    {
     "output_type": "stream",
     "name": "stdout",
     "text": [
      ", 'said', 'to', 'use', 'the', 'cream', '.']\n['LOL', '@', 'moped']\n['is', 'that', 'what', 'you', 'call', 'your', 'harley', '?']\n['as', 'soon', 'as', 'i', \"'m\", 'no', 'longer', 'a', 'poor', \"mf'er\", 'i', 'will', ':)']\n['ok', '..', 'i', \"'m\", 'gone', '...', 'again', '...', 'cya', 'later', 'U19', '*waves*']\n['the', 'same', 'cream', 'you', 'have', 'for', 'the', 'genital', 'warts', '?']\n['LoL']\n['moped', 'U28', '?..', 'ohh', 'ur', 'a', 'real', 'man']\n['i', 'had', 'a', 'moped', 'once']\n['yup']\n['hehe', 'U16', ':)']\n['thats', 'my', 'moped']\n['herpes', 'is', 'herpes', 'babe']\n['imma', 'make', 'fun', 'of', 'his', 'moped', 'now']\n['you', 'are', 'a', 'total', 'fuddahnut', 'U28']\n['u', 'kicked', 'his', 'ass', 'U23', 'gees']\n['JOIN']\n['I', 'know', '...', 'I', 'watch', 'Dr.', 'Drew']\n['lol', 'U23', '...', 'yer', 'bedroom', 'stories', 'are', 'hawT', '!!!']\n['how', 'many', 'of', 'you', 'tried', 'myspace', 'for', 'dating', '..', 'i', 'hate', 'to', 'promoter', 'other', 'sites', '..', 'i', 'hate', 'yahoo', 'but', 'now', 'there', 'is', 'alternatives', '..']\n['Dr.', 'Drew', 'rocks']\n['yup', 'i', 'kicked', 'his', 'ass']\n['I', 'have', 'the', 'only', '10', \"'\", 'long', 'moped', 'in', 'town']\n['lol']\n['I', 'hit', 'that']\n['PART']\n['I', \"'d\", 'even']\n['.', 'ACTION', 'has', 'not', 'tried', 'myspace', 'for', 'dating', '.']\n['JOIN']\n['JOIN']\n['damn']\n['U15', '..', 'mopeds', 'r', 'for', 'old', 'men', 'and', 'gay', 'men', 'right', '?']\n['.', 'ACTION', 'doesnt', 'even', 'have', 'a', 'myspace', '.']\n['Wb', 'U46']\n['(((((((((((((((((((((', 'U47', 'sis', ')))))))))))))))))))))']\n['.', '9', '(((((..', '13', 'U47', '..', '9', ')))))']\n['hola', 'U47']\n['you', \"'d\", 'hit', 'Screach']\n['U19', 'hugs']\n['hiya', 'U47', 'muahhhhh']\n['yes', 'U27', 'imhave', 'a', 'fan', 'on']\n['U47', 'huuuuuuuuuuuuuuuuuuuuuuuuuuuuuuuuuuugZ']\n['((((((((((', 'U1', 'sis', '))))))))))))))']\n['.', 'ACTION', 'stretches', '.']\n['ty', 'U19']\n['Ugh', ',', 'Im', 'so', 'sore', '!']\n['Repeatedly', ',', 'with', 'a', 'big', 'stick', 'U41']\n['.', 'ACTION', 'smacks', 'U28', 'back', 'online', 'in', 'msn', '.']\n['((((((((((', 'U35', ')))))))))))))']\n['QQ', 'at', 'U35', 'hm', 'ya', 'cold', '?']\n['lol']\n['lol']\n['((((((((((', 'U28', ')))))))))))))']\n['((((((((((', 'U47', ')))))))))))))))']\n['*', 'pushes', 'U47', '..', 'and', 'runs', '..']\n['I', 'am', 'cold', ',', 'yes.', '.', 'Why', '?']\n['big', 'stick', '?', 'Is', 'that', 'a', 'euphemism', '?']\n['U32', 'u', 'cheating', 'on', 'me', 'with', 'U28', '?', '..', 'like', 'OMG']\n['.', 'ACTION', 'puts', 'U35', 'in', 'his', '\"', 'leave', 'alone', '\"', 'book', '.']\n['where', 'are', 'you', 'from', 'U35']\n['(((((((((((', 'U23', '))))))))))))))']\n['.', 'ACTION', 'pounces', 'U47', 'and', 'grabs', 'the', 'fish', '*', 'wooooooooooooohoooooooooooooooo', 'I', 'got', 'it', 'I', 'got', 'it', '!!!!!', '*', 'drops', 'it', '*', 'son', 'of', 'a', '.......']\n['JOIN']\n['when', 'u', 'streched', 'i', 'could', 'tell']\n['LOL', 'U36', '!!!!!']\n['lol']\n['Well', ',', 'you', 'know', 'I', \"'m\", 'a', 'size', 'queen', 'U41']\n['Why', 'U45', '?']\n['naw', 'U23', 'im', 'cheating', 'on', 'you', 'with', 'Jayse']\n['hes', 'hawt', 'too']\n['lol']\n['LMAO', 'Randy']\n['Uh', 'huh']\n['*', 'hugs', 'everyone', '...', 'lol']\n['a', 'queen', 'anyway']\n['anyone', 'from', 'TX']\n['wahoooooooski']\n['.', 'wz', '95953']\n['.', 'ACTION', 'goes', 'to', 'look', 'out', 'the', 'window', 'to', 'check', 'the', 'weather', '...']\n['haha']\n['www.Wunderground.com', ':', '.', 'Live', 'Oak', ',', 'California', '(', '95953', ')', '.', '.(.', '39.3', '?', 'N', '121.7', '?', 'W', '.).']\n['.', 'Observed', 'at', '53', 'AM', 'PDT', 'on', 'October', '20', ',', '2006', '.', 'Elev', ':.', '59', 'ft', '/', '18', 'm']\n['.', 'Current', '.', '57', '?', 'F', '/', '14', '?', 'C', '.', 'Wind', '.', '55%']\n['.', 'ACTION', 'is', 'back', '.']\n['((((((((', 'U35', ')))))))))))']\n['.', 'Dew', 'Point', '.', '30.00.', 'in', '/', '1016.', 'hPa', '.', 'Ceiling', ':.', 'Unlimited']\n['.', 'Record', 'High', '.', '41', '?', 'F', '/', '5', '?', 'C', '(', '1980', ')']\n['Wb', 'U30']\n['why', 'are', 'you', 'back']\n['.', 'Sunrise', '21', 'AM', 'PDT', '.', 'Set', '20', 'PM', 'PDT', '.', 'Length', '.', '2', 'm', '26', 's', 'shorter']\n['wb', 'U30', 'muahhh']\n['.', 'wz', '99701']\n['.', 'ACTION', 'goes', 'to', 'look', 'out', 'the', 'window', 'to', 'check', 'the', 'weather', '...']\n['thanks', '!!!']\n['.', 'Advisory', '//www.wunderground.com/cgi-bin/findweather/getForecast?query=95953#FIR']\n['((((((((', 'U16', '))))))))))']\n['its', 'in', 'your', 'profile', ',', 'i', 'respec', 'that']\n['(', 'end', 'Live', 'Oak', ',', 'California', '(', '95953', ')', 'weather', ')']\n['www.Wunderground.com', ':', '.', 'Fairbanks', ',', 'Alaska', '(', '99701', ')', '.', '.(.', '64.8', '?', 'N', '147.7', '?', 'W', '.).']\n['bc', 'you', 'want', 'me', 'Joshy']\n['.', 'ACTION', 'says', '\"', 'That', \"'\", '.']\n['.', 'Observed', 'at', '55', 'AM', 'AKDT', 'on', 'October', '20', ',', '2006', '.', 'Elev', ':.', '453', 'ft', '/', '138', 'm']\n['hiYas', 'U30']\n['(((((((((', 'U32', ')))))))))))']\n['.', 'Current', '.', '27', '?', 'F', '/', '-', '3', '?', 'C', '.', 'Wind', '.', '93%']\n['^', 't']\n['.', 'ACTION', 'sighs', '.']\n['s', 'nice']\n['I', 'dropped', 'it', 'again', 'U47']\n['.', 'Dew', 'Point', '.', '29.88.', 'in', '/', '1012.', 'hPa', '.', 'Ceiling', ':.', 'Unlimited']\n[':P']\n['.', 'Sunrise', '59', 'AM', 'AKDT', '.', 'Set', '10', 'PM', 'AKDT', '.', 'Length', '.', '6', 'm', '43', 's', 'shorter']\n['hi']\n['pfft']\n['all']\n['PART']\n['(', 'end', 'Fairbanks', ',', 'Alaska', '(', '99701', ')', 'weather', ')']\n['sigh']\n['i', 'am', '20']\n['boy']\n['PART']\n['from', 'azerbaijan']\n['dang', 'thats', 'cold']\n['man', 'i', 'syck']\n['who', 'wanna', 'chatr']\n['((((((((', 'neone', 'i', 'missed', '*', 'U36', 'pushed', 'me', '*', ')))))))))))']\n['JOIN']\n['U45']\n['are', 'you', 'tere']\n['I', 'didnt', 'say', 'in', 'my', 'profile', 'to', 'leave', 'me', 'alone', '.', 'I', 'said', 'not', 'to', 'PM', 'me', '.', 'You', 'can', 'talk', 'to', 'me', 'out', 'here', ',', 'U45']\n['suck', 'even', ':)']\n['yup', ',', 'gonna', 'be', 'a', 'good', 'riding', 'day']\n['omg', 'it', \"'s\", 'horrible']\n['yes', 'i', 'am', 'here']\n['ohhh', 'U542', 'sent', 'me', 'a', 'comment']\n['lol']\n['PART']\n['I', 'only', 'talk', 'the', 'ppl', 'I', 'know', 'already', 'in', 'my', 'PM']\n['like', 'me']\n['.', 'wz', '57401']\n['.', 'ACTION', 'goes', 'to', 'look', 'out', 'the', 'window', 'to', 'check', 'the', 'weather', '...']\n['www.Wunderground.com', ':', '.', 'Aberdeen', ',', 'South', 'Dakota', '(', '57401', ')', '.', '.(.', '45.5', '?', 'N', '98.5', '?', 'W', '.).']\n['.', 'Observed', 'at', '27', 'AM', 'CDT', 'on', 'October', '20', ',', '2006', '.', 'Elev', ':.', '1299', 'ft', '/', '396', 'm']\n['.', 'ACTION', 'smirkz', 'and', 'hits', 'U35', 'up', 'in', 'her', 'pm', '.']\n['.', 'Current', '.', '36', '?', 'F', '/', '2', '?', 'C', '.', 'Wind', '.', '75%']\n['maybe', 'Bible', 'chat', 'would', 'be', 'better']\n['.', 'Dew', 'Point', '.', '29', '?', 'F', '/', '-', '2', '?', 'C', '.', 'Barometer', '.', '1900', 'ft', '/', '579', 'm']\n['brb', '..', 'afk']\n['no', 'shit']\n['.', 'Record', 'High', '.', '12', '?', 'F', '/', '-', '11', '?', 'C', '(', '1930', ')']\n['.', 'Sunrise', '56', 'AM', 'CDT', '.', 'Set', '39', 'PM', 'CDT', '.', 'Length', '.', '3', 'm', '1', 's', 'shorter']\n['hb', 'U34']\n['JOIN']\n['LoL', 'U32', '. .', 'You', 'know', 'yer', 'on', 'the', 'list', 'of', 'ppl', 'that', 'I', 'let', 'PM', 'me', '=)']\n['I', 'only', 'talk', 'to', 'da', 'KoOL', 'ppl', '-', 'bahahahaa']\n['Wb', 'U50', '=)']\n['(', 'end', 'Aberdeen', ',', 'South', 'Dakota', '(', '57401', ')', 'weather', ')']\n['i', \"'d\", 'never', 'leave', 'you', 'alone', 'U35', '..', 'if', 'i', 'had', 'a', 'choice', ':)']\n['LMAO', 'U47']\n['i', 'can', 'tell', 'by', 'the', 'moaning']\n['?']\n['Werd']\n['lol']\n[':)']\n['PART']\n['hiYas', 'U50']\n['Rofl', 'U32']\n['hey', 'U35']\n['sup', 'U37', '???????']\n['hiya', 'U32']\n['maybe', 'we', \"'re\", 'too', 'old']\n['cya', 'all', '....']\n['or', 'too', 'smart', '?']\n['or', 'too', 'smart']\n['lol']\n['tc', 'U36']\n['lmao']\n['sea', 'ya', 'U36', '!']\n['yeah']\n['well', 'then', 'U47', 'wont', 'talk', 'to', 'me', 'if', 'she', 'only', 'talks', 'to', 'the', 'kool', 'ppl', 'cus', 'I', \"'m\", 'a', 'retared', 'moron']\n['No', 'such', 'thing', 'as', 'being', 'too', 'smart', '=)']\n['lol']\n['i', 'have', 'a', 'question', 'for', 'you', '...', 'i', 'am', 'totaly', 'straight', 'but', 'i', 'have', 'a', 'strong', 'attraction', 'toward', 'the', 'lead', 'singer', 'of', 'depeche', 'mode', '..', 'i', 'want', 'to', 'do', 'him', '..', 'does', 'that', 'make', 'me', 'gay', '..', 'he', 'is', 'gay']\n['chat', 'rooms', 'always', 'make', 'me', 'feel', 'superior']\n['Ugh', ',', 'my', 'b-day', 'is', 'in', '5', 'days', '=(']\n['PART']\n['LOL', 'U35', 'no', 'ur', 'nawt']\n['yup', 'your', 'gay']\n['lmao', 'U37', 'dang']\n['come', 'on', 'back', 'on', 'tuesday']\n['I', 'would', 'think', 'that', 'coexistence', 'makes', 'you', 'feel', 'superior']\n['U37', '-', 'umm', 'prolly']\n['30', 'right', 'U35', '?']\n['LoL', 'yeah']\n['awww', 'U35', 'yer', 'gonna', 'be', 'what', '?', '57', 'right', '?']\n['lol']\n['your', 'a', 'guy', 'too', '?????']\n['omg', 'lol', 'U50']\n['You', 'know', 'I', 'was', 'royalty', 'in', 'a', 'past', 'life']\n['Yes', ',', 'U32', '. .']\n['LoL']\n['oh', 'yea', 'definitely']\n['hah']\n['DING', 'DING', 'DING', 'imma', 'winner']\n['i', 'want', 'to', 'make', 'love', 'to', 'him']\n['Ima', 'be', '27', 'on', 'Wednesday', ',', 'U32']\n['coexistence', '?']\n['JOIN']\n['LoL', 'U32']\n['then', 'there', 'is', 'your', 'asnwer']\n['I', \"'ve\", 'had', 'enough']\n['okay']\n['we', 'are', 'the', 'same', 'age', 'until', 'muh', 'birfday', 'then', '=)']\n['mmmmk']\n['its', '30', 'U32', 'trust', 'me', 'lol']\n['talk', 'to', 'you', 'later', '...', 'love', 'you']\n['hi', 'all']\n['let', \"'s\", 'get', 'kicked']\n['kiddin', 'U35', 'baby']\n['lol', 'i', 'cant', 'trust', 'you', 'yet', 'i', 'dunno', 'you']\n['be', 'offensive']\n['lol']\n['Love', 'you']\n['it', \"'s\", 'weird', 'thing', '..']\n['JOIN']\n['good', 'policy']\n['are', 'you', 'capab;e', '?']\n['Oh', ',', '####', 'yeah']\n['U3', 'op']\n[':', 'U3', '!', 'U3', '@', 'U3', 'MODE', '#talkcity_adults', '+', 'o', 'U15']\n['U15', ':', 'What', \"'s\", 'your', 'sign', '?']\n['woof']\n['how', 'many', 'of', 'you', 'were', 'attracted', 'to', 'the', 'same', 'sex']\n['JOIN']\n['oh', 'man', ',', 'they', 'just', 'xxxed', 'it']\n['muh', 'nose', 'is', 'cold']\n['I', 'love', 'it', 'when', 'you', 'take', 'charge', 'U15']\n['not', 'me', ',', 'ever']\n['smiles']\n['sheesh']\n['were', 'attracted', 'or', 'ARE', 'attracted']\n['Hello']\n['ca', \"n't\", 'even', 'get', 'kicked']\n['.', 'ACTION', 'is', 'hungry', '.']\n['gets', 'me', 'all', 'tingly', 'n', 'stuff']\n['bye', 'honey', 'bunny']\n['damn']\n['19', '/', 'F', '/', 'Wisconsin']\n['ooeer', 'is', 'sum1', 'gonna', 'ghet', 'fuked', 'up', '?', ':)']\n['im', 'always', 'hungry']\n['yeah', 'U45', '..', 'i', 'believe', 'it', ';)']\n['get', '^']\n['lol', 'U16', 'keep', 'up', 'here']\n['anyone', 'wanna', 'chat', 'pvt', 'me']\n['not', 'even', 'to', 'brad', 'pit', 'U45']\n['PART']\n['.', 'ACTION', 'gives', 'U16', 'a', 'skateboard', 'to', 'keep', 'up', 'wif', 'us', '.']\n['o', 'no', 'way', 'he', 'is', 'a', 'jerk']\n['up', 'in', 'this', 'biyatch', '?', ':)']\n['PART']\n['PART']\n['lol']\n['tom', 'cruise', ',', 'denzel', '..']\n['U52', '-', 'Out', 'here']\n['?']\n['.', '4', 'Reminder', ':', 'Do', 'NOT', 'PM', 'others', 'without', 'first', 'asking', 'permission', '.']\n['U35']\n['im', 'sorry', 'U35']\n['i', 'tried', 'to', 'refrain']\n['me', 'too', 'U35']\n['takes', 'note', ',', 'U35']\n['but', 'your', 'moanin', 'just', 'got', 'to', 'me']\n['my', 'dog', 'did', 'a', 'no-no', 'and', 'he', \"'s\", 'hiding', 'at', 'the', 'top', 'of', 'the', 'stairs', '...', 'lmao']\n['i', 'dunno', '..', 'my', 'lingo', 'is', 'like', '5', 'yrs', 'behind']\n['I', 'thought', 'you', 'wanted', 'to', 'be', 'the', 'meat', 'in', 'a', 'U28', 'sammich']\n['Yes', ',', 'U53', '?']\n['.', 'ACTION', 'fallz', 'offa', 'her', 'chair', 'laffin', 'hard', '!!.']\n[':)']\n['i', 'really', 'like', 'ladies', 'but', 'some', 'guys', 'are', 'to', 'hot', 'to', 'pass', 'by', '..', 'it', \"'s\", 'about', 'control', 'i', 'guess', '...', 'and', 'it', 'does', \"n't\", 'help', 'that', 'i', 'm', 'european']\n['omg', 'U28', '!!!', 'whoaaaaaaaaaaaa']\n['who', 'was', 'that', 'reminder', 'to']\n['You', 'too', 'what', ',', 'U28', '?', 'Hungry', '?']\n['most', 'of', 'us', 'cris-cross']\n['Everyone', ',', 'U53']\n['Ask', 'before', 'you', 'PM', 'anyone', '.']\n['*', 'tosses', 'U16', 'a', 'tootsie', 'roll', '*']\n['oh', \"c'm\", 'on', 'U32', ',', 'tell', 'me', 'you', 'were', \"n't\", 'thinking', 'the', 'same', 'thing']\n['It', \"'s\", 'a', 'room', 'rule']\n['most', 'of', 'us', 'do', 'NOT', 'criss-cross']\n['JOIN']\n['well', '....', '~blusherZ~']\n['is', 'gonna', 'make', 'u', 'jump', 'jump', '?', 'oh', 'old', 'school']\n['PART']\n['U35', ';', 'is', 'freakin', 'out']\n['Ridin', 'is', 'not', 'worth', 'talkin', 'to']\n['no', 'shes', 'not']\n['U37', '-', 'Dood', ',', 'yer', 'gay', ',', 'face', 'it', '. .', 'And', 'if', 'yer', 'not', 'gay', 'then', 'yer', 'bi', '.', 'You', 'should', 'be', 'old', 'enough', 'to', 'tell', 'the', 'difference', 'already', '.']\n['JOIN']\n['hiYas', 'U55']\n['.', '2', '******', 'Welcome', 'to', 'all', 'who', 'just', 'joined', 'us', '!!!', '******', '.']\n['I', 'never', 'freak', 'out.', '. .', 'BUt', 'I', 'can', 'if', 'you', 'want', 'me', 'to', '=)']\n['lol', 'U35', 'tell', 'it', 'like', 'it', 'is']\n['hello']\n['reallly']\n['brrrrrrr']\n['LOL', 'U35']\n['wanna', 'bet', 'he', 'likes', 'Jeter', 'and', 'Rothlisburger', '?']\n['wb', 'U34']\n['how', 'do', 'you', 'know', 'U35']\n['tell', 'him', 'how', 'u', 'really', 'feel', 'U35', ';)']\n['ty', 'U32', 'muahhh']\n['hahah', 'U28']\n['may', 'I', '??']\n['every', 'day', 'is', 'tuesday', 'in', 'his', 'world']\n['anyone', 'wanna', 'chat']\n['i', 'dont', 'like', 'you', 'U28', ',', 'go', 'play', 'with', 'your', 'meat']\n['.', 'ACTION', 'huh', '?....', 'someone', 'dissing', 'my', 'Ben', 'agaibn', '....', 'haters', '!!!.']\n['hi']\n['Oh', 'my', 'U15', '. .', 'LoL']\n['too', 'late', 'U15']\n['hello', 'U53']\n['agaibn', '?']\n['.', 'ACTION', 'listenin', 'to', 'Evanescence', '-', 'Lithium', '.']\n['lmao']\n['may', 'I', '??']\n['lol', 'your', 'done', 'with', 'it', '?']\n['.', 'ACTION', 'pounces', 'on', 'U23', 'ans', 'wiggleZ', 'all', 'around', '.']\n[';-)']\n['not', 'quite', ',', 'wanna', 'call', 'me', 'a', 'few', 'more', 'names', '?']\n['.', 'ACTION', 'touches', 'U32', 's', 'weenis', '.']\n['dam', 'dont', 'sexcite', 'me', 'like', 'that', 'U32']\n['lmao']\n['.', 'ACTION', 'moanz', 'LOUD', '.']\n['.', 'ACTION', 'is', 'listening', 'to', '.', 'Nickelback', '-', 'Figured', 'You', 'Out', '. ...']\n['u', 'need', 'paper', 'twoel', '?']\n['LOL', 'U23']\n['lol']\n['lol', 'towel', 'even']\n['JOIN']\n['no', 'I', 'can', 'hit', 'the', 'sink', 'from', 'here']\n['hiya', 'U56']\n['PART']\n['dang']\n['LOL', 'U28']\n['.', 'ACTION', 'calls', 'U28', 'some', 'names', '. .', 'Spank', 'me', '!.']\n['o_0']\n['you', 'know', 'U23', 'you', 'should', 'look', 'at', 'my', 'msn', 'myspace', 'there', 'and', 'check', 'out', 'the', 'weenis', 'board', 'I', 'put', 'up']\n['ok', ',', 'make', 'that', 'the', 'wall']\n['ty', 'U35']\n['LOL']\n['PART']\n['ohhh', 'U32', '..', 'imma', 'go', 'look']\n['LoL', 'yep', '!']\n['just', 'bend', 'over', 'U35', 'i', 'will']\n['lol']\n['lmao']\n['your', 'poor', 'wall']\n['JOIN']\n['JOIN']\n['JOIN']\n['nickelback', '.........', 'gay', ':)']\n['.', '2', '******', 'Welcome', 'to', 'all', 'who', 'just', 'joined', 'us', '!!!', '******', '.']\n['yeah', 'check', 'out', 'schmoopies', 'butt', 'too', 'while', 'your', 'at', 'it', 'its', 'FINE', '!!']\n['hiYas', 'U58']\n['U16', 'they', 'r', 'not', 'gay']\n['they', 'are', 'not']\n['hiYas', 'U57']\n['U16', '!']\n['PART']\n['argh']\n['hi', 'everyone']\n['.', 'ACTION', 'sings', 'fart', 'away', '.']\n['oops', 'far']\n['omg']\n['lmao']\n['lol']\n['lol']\n['JOIN']\n['gawd']\n['*', 'shakes', 'head', '*']\n['i', \"'m\", 'just', 'kidding', 'top', 'keep', 'popular', 'opinion', ':)']\n['<empty>']\n['hiya', 'U51']\n['.', 'ACTION', 'is', 'contemplating', 'a', 'nap', '.']\n['nickleback', '?', 'gay', '?', 'ok', 'if', 'they', 'are', \"n't\", 'they', 'sure', 'as', 'hell', 'are', 'thinking', 'about', 'it']\n['to', '^']\n[']:)']\n['you', 'hafta', 'eat', 'first', 'U35']\n['heyyyy']\n['PART']\n['and', 'U28', 'suggested', 'a', 'sammich']\n['haha']\n['JOIN']\n['PART']\n['sings', '...', 'i', 'loved', 'you', 'all', 'along']\n['hiYas', 'U59']\n['pfft', 'i', 'dun', 'care', 'if', 'they', 'are', 'gay', 'or', 'not', '..', 'i', \"'d\", 'do', 'the', 'lead', 'singer', ':P']\n['oh', 'yeah', ',', 'U32', 'the', 'sammich']\n['lol', 'U47']\n['hey']\n['lol']\n['lol', 'U47']\n[\"c'm\", 'ear', 'U35']\n['far', 'away', 'is', 'my', 'and', 'erics', 'song']\n['anyone', 'seen', 'sweetshybbw', '??']\n['lol', 'U47', 'stand', 'yer', 'ground', 'woman', '!!!']\n['i', 'just', 'saw', 'shaun', 'of', 'the', 'dead', '..', 'so', '=', 'gaaaaaaay', '=', 'quite', 'funny']\n['.', 'ACTION', 'cums', 'to', 'U28', '. .', 'LMAO', '.']\n['LOL']\n['PART']\n[':)']\n['PART']\n['.', 'ACTION', 'faints', '.']\n['LoL']\n['lol', 'U16', 'thats', 'a', 'good', 'movie']\n['whoa', ',', 'now', 'that', 'was', 'some', 'blood', 'loss']\n['yawns', '......']\n['funny', ':)']\n['i', 'saw', 'the', 'break', 'up', '....', 'awesome', 'movie']\n['.', 'ACTION', 'sits', 'on', 'U28', '. .', 'You', 'needed', 'me', '?.']\n['I', 'still', 'need', 'to', 'see', 'that', ',', 'U23']\n['You', 'liked', 'it', '?']\n['geeZe', 'a', 'U28', 'sammich', 'with', 'one', 'limp', 'piece', 'of', 'bread']\n['i', 'wanna', 'rent', 'over', 'the', 'hedge', 'lol']\n['i', 'liked', 'it', '..', 'soo', 'funny']\n['thats', 'officer', 'limp', 'piece', 'of', 'bread', 'U28']\n['Have', 'you', 'seen', 'U30', ',', 'U23', '?']\n['lol', 'U47']\n['whats', 'up', 'everybody', '?????']\n['whoopZ', 'sowwy']\n['lol']\n['yes', 'U35', '..', 'at', 'the', 'drive', 'in']\n['is', 'U30', 'any', 'good', '?????']\n['.', 'ACTION', 'loves', 'men', 'in', 'uniform', '.']\n['yes', 'U59', 'it', 'is']\n['Drive', 'in', '?', 'I', 'havent', 'been', 'to', 'one', 'of', 'those', 'since', 'I', 'was', 'a', 'kid']\n['omg', 'i', 'cant', 'wait', 'til', 'cars', 'come', 'out', '..', 'im', 'gonna', 'buy', 'it', '..', 'aqwesome', 'movie']\n['NICK', ':', 'U32']\n['.', 'ACTION', 'loves', 'men', 'out', 'of', 'uniform', '.']\n['i', 'never', 'saw', 'cars']\n['im', 'out', 'of', 'uniform', 'U15']\n['lol']\n['LoL', 'U15', '. .', 'Yeah', ',', 'that', 'too', '.']\n['nick', 'U28']\n['lol', 'U28']\n['i', 'love', 'ben', 'in', 'and', 'out', 'of', 'his', 'uniform']\n['NICK', ':', 'U28']\n['you', 'just', 'love', 'Ben', 'IN', 'AND', 'OUT']\n['JOIN']\n['lmao']\n['.', 'ACTION', 'is', 'listening', 'to', '.', 'Rascal', 'Flatts', '-', 'Life', 'Is', 'a', 'Highway', '. ...']\n['hiya', 'U60']\n['i', 'love', 'me', 'in', 'my', 'hubbys', 'uniform', 'hehehee']\n['JOIN']\n['lol', 'U47']\n['hiya', 'U61']\n['hiYas', 'U61']\n['wb', 'U61']\n['teehee']\n['PART']\n['Hi', 'all']\n['any', 'ladies', 'wanna', 'chat', '?']\n['NICK', ':', 'U32']\n['pm', 'me']\n['PART']\n['im', 'so', 'nodda', 'lady']\n['NICK', ':', 'U28']\n['How', 'are', 'is', 'everything']\n['i', 'like', 'wearin', 'his', 'boots', ':)']\n['that', 'leaves', 'me', 'out']\n['oOo']\n['who', 'U59', 'Me', '?']\n['.', 'ACTION', 'is', 'bored', '.', 'Damn', '..']\n['anybody']\n['.', 'ACTION', 'stretches', '.']\n['pm', 'me']\n['me', 'too', 'U35']\n['me', '3']\n['!', 'hug', 'U35']\n['.', 'ACTION', 'watches', 'U28', 'wrap', 'there', 'arm', 'around', 'U35', 'and', 'give', 'them', 'a', 'big', \"ol'\", 'hug', '..']\n['NICK', ':', 'U32']\n['i', 'need', 'coffee', 'bbl']\n['you', 'should', 'be', 'othah', 'halfa']\n['PART']\n['bye', 'U47']\n['PART']\n['PART']\n['she', 'left', 'real', 'fast']\n['JOIN']\n['hiYas', 'U62']\n['hey', 'there', 'U32']\n['JOIN']\n['how', 'are', 'you']\n['NICK', ':', 'U35']\n['im', 'good', 'thanks', 'and', 'yerself', '?']\n['JOIN']\n['NICK', ':', 'U28']\n['no', 'no', 'no', 'U35', 'you', 'were', 'tha', 'fillin']\n['NICK', ':', 'U32']\n['not', 'so', 'bad', 'thanks']\n['PART']\n['I', 'cant', 'be', 'the', 'fillin']\n['yawnssss', '......']\n['You', 'have', 'to', 'be', 'it']\n['good', 'to', 'hear', 'and', 'yer', 'welcome']\n['how', 'do', 'you', 'change', 'your', 'name', '?']\n['PART']\n['nut', 'uh', 'you', 'were', 'tha', 'fillin', 'in', 'the', 'U28', 'sammich']\n"
     ]
    }
   ],
   "source": [
    "temp = nps_chat.posts('10-19-adults_706posts.xml')\n",
    "for i in temp:\n",
    "    print(i)"
   ]
  },
  {
   "cell_type": "code",
   "execution_count": 19,
   "metadata": {},
   "outputs": [],
   "source": [
    "f = open('nps.txt', 'w')\n",
    "\n",
    "for id in nps_chat.fileids():\n",
    "    previous = None\n",
    "    for words in nps_chat.posts(id):\n",
    "        sent = \"\"\n",
    "        for word in words:\n",
    "            sent += word + \" \"\n",
    "        sent.rstrip(\" \")\n",
    "        if(previous != None):\n",
    "            toWrite = f\"{previous}\\t{sent}\\n\"\n",
    "            f.write(toWrite)\n",
    "        previous = sent\n",
    "        # break\n",
    "    # break\n",
    "        # if(previous == None):\n",
    "        #     previous = line\n",
    "        \n",
    "f.close()"
   ]
  },
  {
   "cell_type": "code",
   "execution_count": null,
   "metadata": {},
   "outputs": [],
   "source": []
  }
 ]
}