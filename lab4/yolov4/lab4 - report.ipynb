{
 "metadata": {
  "language_info": {
   "codemirror_mode": {
    "name": "ipython",
    "version": 3
   },
   "file_extension": ".py",
   "mimetype": "text/x-python",
   "name": "python",
   "nbconvert_exporter": "python",
   "pygments_lexer": "ipython3",
   "version": 3
  },
  "orig_nbformat": 2
 },
 "nbformat": 4,
 "nbformat_minor": 2,
 "cells": [
  {
   "source": [
    "# Lab4 - st121413\n",
    "Make Yolov4 run at inference time"
   ],
   "cell_type": "markdown",
   "metadata": {}
  },
  {
   "source": [
    "Given the clue from other students (in Piazza), I made the following changes in order for my Yolov4 to be able to run.\n",
    "\n"
   ],
   "cell_type": "markdown",
   "metadata": {}
  },
  {
   "source": [
    "## 1. Create Activator\n",
    "There two activators currently in the configuration file that do not exist in the darknet.py. Namely, Mish and Linear.\n",
    "\n",
    "Mish is given in the Piazza and Linear... I don't know what it is so I created a pass through Activator (y = x)"
   ],
   "cell_type": "markdown",
   "metadata": {}
  },
  {
   "cell_type": "code",
   "execution_count": null,
   "metadata": {},
   "outputs": [],
   "source": [
    "class Mish(nn.Module):\n",
    "     def __init__(self):\n",
    "         super().__init__()\n",
    "\n",
    "     def forward(self, x):\n",
    "         return x * torch.tanh(F.softplus(x))\n",
    "\n",
    "class LinearActivation(nn.Module):\n",
    "     def __init__(self):\n",
    "         super().__init__()\n",
    "\n",
    "     def forward(self, x):\n",
    "         return x\n",
    "\n",
    "# When choosing activator\n",
    "\n",
    "#Check the activation. \n",
    "#It is either Linear or a Leaky ReLU for YOLO\n",
    "if activation == \"leaky\":\n",
    "    activn = nn.LeakyReLU(0.1, inplace = True)\n",
    "    module.add_module(\"leaky_{0}\".format(index), activn)\n",
    "elif activation == \"mish\":\n",
    "    activn = Mish()\n",
    "    module.add_module(\"mish_{0}\".format(index), activn)\n",
    "elif activation == \"linear\":\n",
    "    activn = LinearActivation()\n",
    "    module.add_module(\"linear_{0}\".format(index), activn)\n",
    "else:\n",
    "    raise ValueError(f\"No activation:{activation}\")"
   ]
  },
  {
   "source": [
    "## 2. Yolov4 configuration asked for 608\n",
    "I searched and changed all 418 to 608. I should have done something better. "
   ],
   "cell_type": "markdown",
   "metadata": {}
  },
  {
   "source": [
    "## 3. Implement greater than 2 Route option\n",
    "This took me a lot time to figure it out.\n",
    "\n",
    "There two places that need to be adjust. The <code>previous_filter</code> in <code>darknet.py</code> and <code>myDarknet</code> class."
   ],
   "cell_type": "markdown",
   "metadata": {}
  },
  {
   "cell_type": "code",
   "execution_count": null,
   "metadata": {},
   "outputs": [],
   "source": [
    "''' From darknet.py '''\n",
    "\n",
    "#If it is a route layer\n",
    "elif (x[\"type\"] == \"route\"):\n",
    "    x[\"layers\"] = x[\"layers\"].split(',')\n",
    "    #Start  of a route\n",
    "    start = int(x[\"layers\"][0])\n",
    "    #end, if there exists one.\n",
    "    try:\n",
    "        end = int(x[\"layers\"][1])\n",
    "    except:\n",
    "        end = 0\n",
    "    #Positive anotation\n",
    "    if start > 0: \n",
    "        start = start - index\n",
    "    if end > 0:\n",
    "        end = end - index\n",
    "    route = EmptyLayer()\n",
    "    module.add_module(\"route_{0}\".format(index), route)\n",
    "    if end < 0:\n",
    "        filters = output_filters[index + start] + output_filters[index + end]\n",
    "    else:\n",
    "        filters= output_filters[index + start]\n",
    "    if(len(x[\"layers\"]) == 4): ######### <<<<<< I add this. Should have done better TT\n",
    "        filters = 2048"
   ]
  },
  {
   "cell_type": "code",
   "execution_count": null,
   "metadata": {},
   "outputs": [],
   "source": [
    "''' from myDarknet class '''\n",
    "elif module_type == \"route\":\n",
    "    # concat layers\n",
    "    # print(module)\n",
    "    # {'type': 'route', 'layers': ['-1', '-7']}\n",
    "    layers = module[\"layers\"]\n",
    "    # layers = [int(a) for a in layers]\n",
    "    \n",
    "    #### Fix the preprocess #####\n",
    "    for index, number in enumerate(layers):\n",
    "        layers[index] = int(number)\n",
    "        if(layers[index] > 0):\n",
    "            layers[index] = layers[index] - i\n",
    "    \n",
    "    ##### Add concatenation of 4 layers and adjust for readability #####\n",
    "    # print(layers)\n",
    "    if len(layers) == 1:\n",
    "        x = outputs[i + (layers[0])]\n",
    "    elif len(layers) == 2:\n",
    "        map1 = outputs[i + layers[0]]\n",
    "        map2 = outputs[i + layers[1]]\n",
    "        x = torch.cat((map1, map2), 1)\n",
    "    elif len(layers) == 4:\n",
    "        map1 = outputs[i + layers[0]]\n",
    "        map2 = outputs[i + layers[1]]\n",
    "        map3 = outputs[i + layers[2]]\n",
    "        map4 = outputs[i + layers[3]]\n",
    "        x = torch.cat((map1, map2, map3, map4), 1)\n",
    "    else:\n",
    "        raise ValueError(f\"len of {layers} not defined\")"
   ]
  },
  {
   "source": [
    "## 4. Add 'maxpool' module\n",
    "\n",
    "Since there is no maxpool module, we have to add it."
   ],
   "cell_type": "markdown",
   "metadata": {}
  },
  {
   "cell_type": "code",
   "execution_count": null,
   "metadata": {},
   "outputs": [],
   "source": [
    "''' From darknet.py '''\n",
    "\n",
    "elif x[\"type\"] == \"maxpool\":\n",
    "    # {'type': 'maxpool', 'stride': '1', 'size': '5'}\n",
    "    assert int(x['size']) % 2 ##### <<<<< This is from prof Matt and also the padding too.\n",
    "    maxpool = nn.MaxPool2d(kernel_size=int(x['size']), stride=int(x['stride']), padding=int(x['size']) // 2)\n",
    "    module.add_module(\"maxpool_{0}\".format(index), maxpool)\n",
    "else:\n",
    "    print(x)\n",
    "    raise ValueError(f\"Module:{x['type']} not defined\")  ##### <<<<< So that I know which module is missing"
   ]
  },
  {
   "cell_type": "code",
   "execution_count": null,
   "metadata": {},
   "outputs": [],
   "source": [
    "''' From myDarknet class'''\n",
    "\n",
    "###### for readability ######\n",
    "if module_type in [\"convolutional\",\"upsample\",'maxpool']:\n",
    "    # do convolutional network\n",
    "    x = self.module_list[i](x)"
   ]
  },
  {
   "source": [
    "## 5. Change prep_image function in <code>util.py</code>"
   ],
   "cell_type": "markdown",
   "metadata": {}
  },
  {
   "cell_type": "code",
   "execution_count": null,
   "metadata": {},
   "outputs": [],
   "source": [
    "''' From util.py '''\n",
    "\n",
    "# def prep_image(img, inp_dim):\n",
    "#     \"\"\"\n",
    "#     Prepare image for inputting to the neural network. \n",
    "    \n",
    "#     Returns a Variable \n",
    "#     \"\"\"\n",
    "#     img = (letterbox_image(img, (inp_dim, inp_dim)))\n",
    "#     img = img[:,:,::-1].transpose((2,0,1)).copy()\n",
    "#     img = torch.from_numpy(img).float().div(255.0).unsqueeze(0)\n",
    "#     return img\n",
    "\n",
    "\n",
    "def prep_image(img, inp_dim):\n",
    "    \"\"\"\n",
    "    Prepare image for inputting to the neural network. Returns a tensor.\n",
    "    \"\"\"\n",
    "    # pylint: disable=no-member\n",
    "    img = cv2.cvtColor(img, cv2.COLOR_BGR2RGB)\n",
    "    img = letterbox_image(img, (inp_dim, inp_dim))\n",
    "    return torch.from_numpy(img.transpose(2, 0, 1)).float().div(255.0).unsqueeze(0)\n"
   ]
  },
  {
   "source": [
    "## Testing Result\n",
    "\n",
    "![Drag Racing](des/det_dog-cycle-car.png)"
   ],
   "cell_type": "markdown",
   "metadata": {}
  },
  {
   "cell_type": "code",
   "execution_count": null,
   "metadata": {},
   "outputs": [],
   "source": [
    "dog-cycle-car.png    predicted in  0.023 seconds\n",
    "Objects Detected:    bicycle truck dog\n",
    "----------------------------------------------------------\n",
    "SUMMARY\n",
    "----------------------------------------------------------\n",
    "Task                     : Time Taken (in seconds)\n",
    "\n",
    "Reading addresses        : 0.000\n",
    "Loading batch            : 0.009\n",
    "Detection (1 images)     : 0.092\n",
    "Output Processing        : 0.000\n",
    "Drawing Boxes            : 0.020\n",
    "Average time_per_img     : 0.121\n",
    "----------------------------------------------------------"
   ]
  },
  {
   "source": [
    "I try some other images from coco validation set and here is the result\n",
    "\n",
    "![Drag Racing](des/det_000000000139.jpg)\n",
    "![Drag Racing](des/det_000000000285.jpg)\n",
    "![Drag Racing](des/det_000000000632.jpg)\n",
    "![Drag Racing](des/det_000000000724.jpg)\n",
    "![Drag Racing](des/det_000000000776.jpg)\n",
    "![Drag Racing](des/det_000000000785.jpg)\n",
    "![Drag Racing](des/det_000000000802.jpg)\n",
    "![Drag Racing](des/det_000000000872.jpg)\n",
    "![Drag Racing](des/det_000000000885.jpg)\n"
   ],
   "cell_type": "markdown",
   "metadata": {}
  }
 ]
}