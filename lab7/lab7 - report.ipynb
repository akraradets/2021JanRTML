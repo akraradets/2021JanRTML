{
 "metadata": {
  "language_info": {
   "codemirror_mode": {
    "name": "ipython",
    "version": 3
   },
   "file_extension": ".py",
   "mimetype": "text/x-python",
   "name": "python",
   "nbconvert_exporter": "python",
   "pygments_lexer": "ipython3",
   "version": 3
  },
  "orig_nbformat": 2
 },
 "nbformat": 4,
 "nbformat_minor": 2,
 "cells": [
  {
   "source": [
    "# Lab 7 - st121413\n",
    "\n",
    "\n",
    "1. Reproduce the vanilla GAN and DCGAN results on MNIST and CIFAR. Get the training and test loss for the generator and discriminator over time, plot them, and interpret them.\n",
    "\n",
    "2. Develop your own GAN to model data generated as follows: $$\\begin{eqnarray} \\theta & \\sim & {\\cal U}(0,2\\pi) \\\n",
    "               r      & \\sim & {\\cal N}(0, 1) \\\\\n",
    "               \\mathbf{x} & \\leftarrow & \\begin{cases} \\begin{bmatrix} (10+r)\\cos\\theta \\\\ (10+r)\\sin\\theta + 10\\end{bmatrix} & \\frac{1}{2}\\pi \\le \\theta \\le \\frac{3}{2}\\pi \\\\ \\begin{bmatrix} (10+r)\\cos\\theta \\\\ (10+r)\\sin\\theta - 10\\end{bmatrix} & \\mathrm{otherwise} \\end{cases} \\end{eqnarray} $$\n",
    "You should create a PyTorch DataSet that generates the 2D data in the __init__() method, outputs a sample in the __getitem__() method, and returns the dataset size in the __len__() method. Use the vanilla GAN approach above with an appropriate structure for the generator. Can your GAN generate a convincing facsimile of a set of samples from the actual distribution?\n",
    "\n",
    "\n",
    "3. Use the DCGAN (or an improvement to it) to build a generator for a face image set of your choice. Can you get realistic faces that are not in the training set?\n"
   ],
   "cell_type": "markdown",
   "metadata": {}
  },
  {
   "source": [
    "## 1. Reproduce the VanillaGAN and DGAN"
   ],
   "cell_type": "markdown",
   "metadata": {}
  },
  {
   "source": [
    "The proof of reproducing the lab manual can be seen from the series of images from TensorboardX below."
   ],
   "cell_type": "markdown",
   "metadata": {}
  },
  {
   "source": [
    "## 2. VanillaGAN on SNAKE"
   ],
   "cell_type": "markdown",
   "metadata": {}
  },
  {
   "source": [
    "## 3. DCGAN on Face (CelebA)"
   ],
   "cell_type": "markdown",
   "metadata": {}
  }
 ]
}