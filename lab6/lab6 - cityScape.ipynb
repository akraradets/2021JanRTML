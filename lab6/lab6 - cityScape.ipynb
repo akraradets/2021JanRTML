{
 "metadata": {
  "language_info": {
   "codemirror_mode": {
    "name": "ipython",
    "version": 3
   },
   "file_extension": ".py",
   "mimetype": "text/x-python",
   "name": "python",
   "nbconvert_exporter": "python",
   "pygments_lexer": "ipython3",
   "version": "3.6.9-final"
  },
  "orig_nbformat": 2,
  "kernelspec": {
   "name": "python3",
   "display_name": "Python 3.6.9 64-bit",
   "metadata": {
    "interpreter": {
     "hash": "31f2aee4e71d21fbe5cf8b01ff0e069b9275f58929596ceb00d14d90e3e16cd6"
    }
   }
  }
 },
 "nbformat": 4,
 "nbformat_minor": 2,
 "cells": [
  {
   "cell_type": "code",
   "execution_count": 1,
   "metadata": {},
   "outputs": [],
   "source": [
    "# !ln -s ~/Cityscapes/ ./Cityscapes"
   ]
  },
  {
   "cell_type": "code",
   "execution_count": 3,
   "metadata": {},
   "outputs": [],
   "source": [
    "from torchvision import datasets\n",
    "# https://pytorch.org/vision/0.8/datasets.html#cityscapes\n",
    "# split (string, optional) – The image split to use, train, test or val if mode=”fine” otherwise train, train_extra or val\n",
    "# dataset = datasets.Cityscapes('./data/cityscapes', split='train', mode='fine', target_type='semantic')\n",
    "target_type = ['instance', 'semantic', 'polygon', 'color']\n",
    "dataset = datasets.Cityscapes('./Cityscapes', split='val', mode='fine', target_type=target_type)"
   ]
  }
 ]
}