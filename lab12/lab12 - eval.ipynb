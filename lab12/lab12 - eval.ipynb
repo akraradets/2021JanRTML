{
 "metadata": {
  "language_info": {
   "codemirror_mode": {
    "name": "ipython",
    "version": 3
   },
   "file_extension": ".py",
   "mimetype": "text/x-python",
   "name": "python",
   "nbconvert_exporter": "python",
   "pygments_lexer": "ipython3",
   "version": 3
  },
  "orig_nbformat": 2
 },
 "nbformat": 4,
 "nbformat_minor": 2,
 "cells": [
  {
   "source": [
    "# lab12 - st121413"
   ],
   "cell_type": "markdown",
   "metadata": {}
  },
  {
   "source": [
    "## In-lab exercises\n",
    "\n",
    "1. Spend some time to understand the Transformer and Speech Recognition examples.\n",
    " - I did this in the main_[modelname] and save the best model in /checkpoint for the next one\n",
    " - https://github.com/akraradets/2021JanRTML/tree/main/lab12\n",
    "2. After training, test the two models on some data (text, audio) you provide yourself"
   ],
   "cell_type": "markdown",
   "metadata": {}
  },
  {
   "source": [],
   "cell_type": "code",
   "metadata": {},
   "execution_count": null,
   "outputs": []
  },
  {
   "source": [
    "## Homework\n",
    "\n",
    "Since you're all extremely busy with your projects (RIGHT??), for the homework for this week,\n",
    "write an explanation of the steps that would be needed to adapt the PyTorch transformer to\n",
    "the speech recognition task. Be specific in how you would do the implementation, but you do\n",
    "not need to ac"
   ],
   "cell_type": "markdown",
   "metadata": {}
  }
 ]
}